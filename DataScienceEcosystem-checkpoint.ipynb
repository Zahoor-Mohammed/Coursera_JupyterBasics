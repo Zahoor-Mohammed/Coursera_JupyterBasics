{
 "cells": [
  {
   "cell_type": "markdown",
   "id": "74b3ff80",
   "metadata": {},
   "source": [
    "# Data Science Tools and Ecosystem"
   ]
  },
  {
   "cell_type": "markdown",
   "id": "2aa8e249",
   "metadata": {},
   "source": [
    "#### In this notebook, Data Science Tools and Ecosystem are summarized."
   ]
  },
  {
   "cell_type": "markdown",
   "id": "a5f96564",
   "metadata": {},
   "source": [
    "## Some of the popular languages that Data Scientists use are:"
   ]
  },
  {
   "cell_type": "markdown",
   "id": "ddf0734f",
   "metadata": {},
   "source": [
    "#### 1. Python\n",
    "#### 2. R\n",
    "#### 3. Java\n",
    "#### 4. Scaple"
   ]
  },
  {
   "cell_type": "markdown",
   "id": "fa6440a9",
   "metadata": {},
   "source": [
    "### Some of the commonly used libraries used by Data Scientists include:"
   ]
  },
  {
   "cell_type": "markdown",
   "id": "16b6f653",
   "metadata": {},
   "source": [
    "#### 1. Pandas\n",
    "#### 2. Matplotlib\n",
    "#### 3. Numpy\n",
    "#### 4. ggplot\n",
    "#### 5. scikit-learn"
   ]
  },
  {
   "cell_type": "markdown",
   "id": "bf44d5da",
   "metadata": {},
   "source": [
    "### Data Science Tools"
   ]
  },
  {
   "cell_type": "markdown",
   "id": "531f0f8f",
   "metadata": {},
   "source": [
    "|Tools |\n",
    "|------|\n",
    "|Python|\n",
    "|Numpy |\n",
    "|Pandas|\n",
    "|scipy |\n",
    "|Julia |"
   ]
  },
  {
   "cell_type": "markdown",
   "id": "62831f59",
   "metadata": {},
   "source": [
    "### Below are a few examples of evaluating arithmetic expressions in Python"
   ]
  },
  {
   "cell_type": "code",
   "execution_count": 2,
   "id": "6cd128c9",
   "metadata": {},
   "outputs": [
    {
     "data": {
      "text/plain": [
       "17"
      ]
     },
     "execution_count": 2,
     "metadata": {},
     "output_type": "execute_result"
    }
   ],
   "source": [
    "# This a simple arithmetic expression to mutiply then add integers\n",
    "(3*4)+5"
   ]
  },
  {
   "cell_type": "code",
   "execution_count": 6,
   "id": "abf49424",
   "metadata": {},
   "outputs": [
    {
     "name": "stdout",
     "output_type": "stream",
     "text": [
      "3.3333333333333335 Hours\n"
     ]
    }
   ],
   "source": [
    "# This will convert 200 minutes to hours by diving by 60.\n",
    "\n",
    "mins = 200\n",
    "hours = mins/60\n",
    "print(hours,\"Hours\")"
   ]
  },
  {
   "cell_type": "markdown",
   "id": "3ddac079",
   "metadata": {},
   "source": [
    "#### List popular languages for Data Science\n",
    "##### • Pyton\n",
    "##### • R\n",
    "##### • JAVA\n",
    "##### • C++\n",
    "##### • Julia"
   ]
  },
  {
   "cell_type": "markdown",
   "id": "7bef5a41",
   "metadata": {},
   "source": [
    "#### Author:\n",
    "### Zahoor Mohammed"
   ]
  }
 ],
 "metadata": {
  "kernelspec": {
   "display_name": "Python 3 (ipykernel)",
   "language": "python",
   "name": "python3"
  },
  "language_info": {
   "codemirror_mode": {
    "name": "ipython",
    "version": 3
   },
   "file_extension": ".py",
   "mimetype": "text/x-python",
   "name": "python",
   "nbconvert_exporter": "python",
   "pygments_lexer": "ipython3",
   "version": "3.11.4"
  }
 },
 "nbformat": 4,
 "nbformat_minor": 5
}
